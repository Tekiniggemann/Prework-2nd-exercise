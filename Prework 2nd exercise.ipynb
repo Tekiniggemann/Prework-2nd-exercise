{
 "cells": [
  {
   "cell_type": "code",
   "execution_count": 1,
   "id": "1d34cf00",
   "metadata": {},
   "outputs": [
    {
     "name": "stdout",
     "output_type": "stream",
     "text": [
      "a: 8\n",
      "a is even number\n"
     ]
    }
   ],
   "source": [
    "a = input(\"a: \")\n",
    "a = int(a)\n",
    "if a % 2 == 0:\n",
    "    print(\"a is even number\")\n",
    "else:\n",
    "    print(\"a is odd number\")"
   ]
  },
  {
   "cell_type": "code",
   "execution_count": 2,
   "id": "734332d6",
   "metadata": {},
   "outputs": [
    {
     "name": "stdout",
     "output_type": "stream",
     "text": [
      "a is negative number\n"
     ]
    }
   ],
   "source": [
    "a = -38\n",
    "if a>0:\n",
    "    print(\"a is positive number\")\n",
    "elif a == 0:\n",
    "    print(\"a is zero\")\n",
    "else:\n",
    "    print(\"a is negative number\")"
   ]
  },
  {
   "cell_type": "code",
   "execution_count": 4,
   "id": "db39ab77",
   "metadata": {},
   "outputs": [
    {
     "name": "stdout",
     "output_type": "stream",
     "text": [
      "Mark1: 97\n",
      "The Grade is: A\n"
     ]
    }
   ],
   "source": [
    "a = int(input(\"Mark1: \"))\n",
    "if a<25:\n",
    "    print(\"The Grade is: F\")\n",
    "elif a<45 and a>25:\n",
    "    print(\"The Grade is: E\")\n",
    "elif a<60 and a>45:\n",
    "    print(\"The Grade is: D\")\n",
    "elif a<75 and a>60:\n",
    "    print(\"The Grade is: C\")\n",
    "elif a<90 and a>75:\n",
    "    print(\"The Grade is: B\")\n",
    "elif a>90:\n",
    "    print(\"The Grade is: A\")\n",
    "else:\n",
    "    print(\"Integers were not entered\")"
   ]
  },
  {
   "cell_type": "code",
   "execution_count": null,
   "id": "20d3258b",
   "metadata": {},
   "outputs": [],
   "source": []
  }
 ],
 "metadata": {
  "kernelspec": {
   "display_name": "Python 3",
   "language": "python",
   "name": "python3"
  },
  "language_info": {
   "codemirror_mode": {
    "name": "ipython",
    "version": 3
   },
   "file_extension": ".py",
   "mimetype": "text/x-python",
   "name": "python",
   "nbconvert_exporter": "python",
   "pygments_lexer": "ipython3",
   "version": "3.8.8"
  }
 },
 "nbformat": 4,
 "nbformat_minor": 5
}
